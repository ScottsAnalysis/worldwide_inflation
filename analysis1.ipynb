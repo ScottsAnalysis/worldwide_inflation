{
 "cells": [
  {
   "cell_type": "code",
   "execution_count": 119,
   "metadata": {},
   "outputs": [
    {
     "name": "stdout",
     "output_type": "stream",
     "text": [
      "<Response [200]>\n"
     ]
    }
   ],
   "source": [
    "from bs4 import BeautifulSoup\n",
    "import requests\n",
    "\n",
    "req = requests.get('https://www.ons.gov.uk/economy/inflationandpriceindices/bulletins/consumerpriceinflation/september2023')\n",
    "\n",
    "soup = BeautifulSoup(req.text, \"html\")"
   ]
  },
  {
   "cell_type": "code",
   "execution_count": 55,
   "metadata": {},
   "outputs": [
    {
     "name": "stdout",
     "output_type": "stream",
     "text": [
      "<table class=\"table\">\n",
      "<caption class=\"table__caption\">Table 1: CPIH, OOH component and CPI index values, and annual and monthly rates, UK<br/><span class=\"table__subtitle\">September 2022 to September 2023</span></caption>\n",
      "<colgroup><col style=\"width: 9.6%\"/><col style=\"width: 10%\"/><col style=\"width: 10%\"/><col style=\"width: 10%\"/><col style=\"width: 10%\"/><col style=\"width: 10%\"/><col style=\"width: 10%\"/><col style=\"width: 10%\"/><col style=\"width: 10%\"/><col style=\"width: 10%\"/></colgroup>\n",
      "<tr class=\"table__header-row\"><td class=\"align-left\"></td><td class=\"align-left\"></td><th class=\"align-right\" scope=\"col\">CPIH Index <br/>(UK, 2015 = 100)</th><th class=\"align-right\" scope=\"col\">CPIH 12-<br/>month rate </th><th class=\"align-right\" scope=\"col\">CPIH 1-<br/>month rate</th><th class=\"align-right\" scope=\"col\">CPI Index<br/>(UK, 2015=100)</th><th class=\"align-right\" scope=\"col\">CPI 12- <br/>month rate</th><th class=\"align-right\" scope=\"col\">CPI 1- <br/>month rate</th><th class=\"align-right\" scope=\"col\">OOH Index<br/>(UK, 2015=100)</th><th class=\"align-right\" scope=\"col\">OOH 12-<br/>month rate </th></tr>\n",
      "<tr><th class=\"align-left\" scope=\"row\">2022</th><th class=\"align-left\" scope=\"row\">Sep </th><td class=\"align-right\">122.3</td><td class=\"align-right\">8.8</td><td class=\"align-right\">0.4</td><td class=\"align-right\">123.8</td><td class=\"align-right\">10.1</td><td class=\"align-right\">0.5</td><td class=\"align-right\">114.2</td><td class=\"align-right\">3.5</td></tr>\n",
      "<tr><td class=\"align-left\"></td><th class=\"align-left\" scope=\"row\">Oct</th><td class=\"align-right\">124.3</td><td class=\"align-right\">9.6</td><td class=\"align-right\">1.6</td><td class=\"align-right\">126.2</td><td class=\"align-right\">11.1</td><td class=\"align-right\">2.0</td><td class=\"align-right\">114.5</td><td class=\"align-right\">3.6</td></tr>\n",
      "<tr><td class=\"align-left\"></td><th class=\"align-left\" scope=\"row\">Nov</th><td class=\"align-right\">124.8</td><td class=\"align-right\">9.3</td><td class=\"align-right\">0.4</td><td class=\"align-right\">126.7</td><td class=\"align-right\">10.7</td><td class=\"align-right\">0.4</td><td class=\"align-right\">115.0</td><td class=\"align-right\">3.7</td></tr>\n",
      "<tr><td class=\"align-left\"></td><th class=\"align-left\" scope=\"row\">Dec </th><td class=\"align-right\">125.3</td><td class=\"align-right\">9.2</td><td class=\"align-right\">0.4</td><td class=\"align-right\">127.2</td><td class=\"align-right\">10.5</td><td class=\"align-right\">0.4</td><td class=\"align-right\">115.5</td><td class=\"align-right\">3.8</td></tr>\n",
      "<tr><th class=\"align-left\" scope=\"row\">2023</th><th class=\"align-left\" scope=\"row\">Jan</th><td class=\"align-right\">124.8</td><td class=\"align-right\">8.8</td><td class=\"align-right\">-0.4</td><td class=\"align-right\">126.4</td><td class=\"align-right\">10.1</td><td class=\"align-right\">-0.6</td><td class=\"align-right\">115.9</td><td class=\"align-right\">3.8</td></tr>\n",
      "<tr><td class=\"align-left\"></td><th class=\"align-left\" scope=\"row\">Feb</th><td class=\"align-right\">126.0</td><td class=\"align-right\">9.2</td><td class=\"align-right\">1.0</td><td class=\"align-right\">127.9</td><td class=\"align-right\">10.4</td><td class=\"align-right\">1.1</td><td class=\"align-right\">116.2</td><td class=\"align-right\">3.9</td></tr>\n",
      "<tr><td class=\"align-left\"></td><th class=\"align-left\" scope=\"row\">Mar</th><td class=\"align-right\">126.8</td><td class=\"align-right\">8.9</td><td class=\"align-right\">0.7</td><td class=\"align-right\">128.9</td><td class=\"align-right\">10.1</td><td class=\"align-right\">0.8</td><td class=\"align-right\">116.6</td><td class=\"align-right\">4.0</td></tr>\n",
      "<tr><td class=\"align-left\"></td><th class=\"align-left\" scope=\"row\">Apr</th><td class=\"align-right\">128.3</td><td class=\"align-right\">7.8</td><td class=\"align-right\">1.2</td><td class=\"align-right\">130.4</td><td class=\"align-right\">8.7</td><td class=\"align-right\">1.2</td><td class=\"align-right\">116.9</td><td class=\"align-right\">4.0</td></tr>\n",
      "<tr><td class=\"align-left\"></td><th class=\"align-left\" scope=\"row\">May</th><td class=\"align-right\">129.1</td><td class=\"align-right\">7.9</td><td class=\"align-right\">0.6</td><td class=\"align-right\">131.3</td><td class=\"align-right\">8.7</td><td class=\"align-right\">0.7</td><td class=\"align-right\">117.5</td><td class=\"align-right\">4.2</td></tr>\n",
      "<tr><td class=\"align-left\"></td><th class=\"align-left\" scope=\"row\">Jun</th><td class=\"align-right\">129.4</td><td class=\"align-right\">7.3</td><td class=\"align-right\">0.2</td><td class=\"align-right\">131.5</td><td class=\"align-right\">7.9</td><td class=\"align-right\">0.1</td><td class=\"align-right\">118.1</td><td class=\"align-right\">4.4</td></tr>\n",
      "<tr><td class=\"align-left\"></td><th class=\"align-left\" scope=\"row\">Jul</th><td class=\"align-right\">129.0</td><td class=\"align-right\">6.4</td><td class=\"align-right\">-0.3</td><td class=\"align-right\">130.9</td><td class=\"align-right\">6.8</td><td class=\"align-right\">-0.4</td><td class=\"align-right\">118.6</td><td class=\"align-right\">4.5</td></tr>\n",
      "<tr><td class=\"align-left\"></td><th class=\"align-left\" scope=\"row\">Aug</th><td class=\"align-right\">129.4</td><td class=\"align-right\">6.3</td><td class=\"align-right\">0.4</td><td class=\"align-right\">131.3</td><td class=\"align-right\">6.7</td><td class=\"align-right\">0.3</td><td class=\"align-right\">119.2</td><td class=\"align-right\">4.8</td></tr>\n",
      "<tr><td class=\"align-left\"></td><th class=\"align-left\" scope=\"row\">Sep </th><td class=\"align-right\">130.1</td><td class=\"align-right\">6.3</td><td class=\"align-right\">0.5</td><td class=\"align-right\">132.0</td><td class=\"align-right\">6.7</td><td class=\"align-right\">0.5</td><td class=\"align-right\">119.8</td><td class=\"align-right\">5.0</td></tr>\n",
      "</table>\n"
     ]
    }
   ],
   "source": [
    "table = soup.find_all(\"table\")[0]\n",
    "print(table)                        # column headings start with <th> tags, while information in the table all start with <tr> tags"
   ]
  },
  {
   "cell_type": "code",
   "execution_count": 66,
   "metadata": {},
   "outputs": [
    {
     "name": "stdout",
     "output_type": "stream",
     "text": [
      "[<th class=\"align-right\" scope=\"col\">CPIH Index <br/>(UK, 2015 = 100)</th>, <th class=\"align-right\" scope=\"col\">CPIH 12-<br/>month rate </th>, <th class=\"align-right\" scope=\"col\">CPIH 1-<br/>month rate</th>, <th class=\"align-right\" scope=\"col\">CPI Index<br/>(UK, 2015=100)</th>, <th class=\"align-right\" scope=\"col\">CPI 12- <br/>month rate</th>, <th class=\"align-right\" scope=\"col\">CPI 1- <br/>month rate</th>, <th class=\"align-right\" scope=\"col\">OOH Index<br/>(UK, 2015=100)</th>, <th class=\"align-right\" scope=\"col\">OOH 12-<br/>month rate </th>]\n",
      "[<th class=\"align-left\" scope=\"row\">2022</th>, <th class=\"align-left\" scope=\"row\">Sep </th>, <th class=\"align-left\" scope=\"row\">Oct</th>, <th class=\"align-left\" scope=\"row\">Nov</th>, <th class=\"align-left\" scope=\"row\">Dec </th>, <th class=\"align-left\" scope=\"row\">2023</th>, <th class=\"align-left\" scope=\"row\">Jan</th>, <th class=\"align-left\" scope=\"row\">Feb</th>, <th class=\"align-left\" scope=\"row\">Mar</th>, <th class=\"align-left\" scope=\"row\">Apr</th>, <th class=\"align-left\" scope=\"row\">May</th>, <th class=\"align-left\" scope=\"row\">Jun</th>, <th class=\"align-left\" scope=\"row\">Jul</th>, <th class=\"align-left\" scope=\"row\">Aug</th>, <th class=\"align-left\" scope=\"row\">Sep </th>]\n"
     ]
    }
   ],
   "source": [
    "# extract (column) titles and (row) indexes\n",
    "inflation_titles = table.find_all(\"th\", class_=\"align-right\")       # there are 'left-aligned' (rows) and 'right-aligned' (columns) titles \n",
    "\n",
    "inflation_indexes = table.find_all(\"th\", class_=\"align-left\")       # select row titles (indexes) in another variable\n",
    "print(inflation_titles); print(inflation_indexes)"
   ]
  },
  {
   "cell_type": "code",
   "execution_count": 67,
   "metadata": {},
   "outputs": [
    {
     "name": "stdout",
     "output_type": "stream",
     "text": [
      "['CPIH Index (UK, 2015 = 100)', 'CPIH 12-month rate ', 'CPIH 1-month rate', 'CPI Index(UK, 2015=100)', 'CPI 12- month rate', 'CPI 1- month rate', 'OOH Index(UK, 2015=100)', 'OOH 12-month rate ']\n",
      "['2022', 'Sep ', 'Oct', 'Nov', 'Dec ', '2023', 'Jan', 'Feb', 'Mar', 'Apr', 'May', 'Jun', 'Jul', 'Aug', 'Sep ']\n"
     ]
    }
   ],
   "source": [
    "# isolate text from html code\n",
    "inflation_table_titles = [title.text for title in inflation_titles]\n",
    "\n",
    "inflation_table_indexes = [title.text for title in inflation_indexes]\n",
    "\n",
    "print(inflation_table_titles); print(inflation_table_indexes)"
   ]
  },
  {
   "cell_type": "code",
   "execution_count": 117,
   "metadata": {},
   "outputs": [],
   "source": [
    "import pandas as pd\n",
    "\n",
    "# add column headers to table\n",
    "titles = pd.DataFrame(columns = inflation_table_titles)\n",
    "\n",
    "# separate out and collate indexes\n",
    "indexes1 = [inflation_table_indexes[0], \"0\", \"0\", \"0\", \"0\",  inflation_table_indexes[5]]\n",
    "\n",
    "indexes2 = [inflation_table_indexes[1:5] + inflation_table_indexes[6:]]             # these two make 2 different kinds of lists, which cannot be used concurrently \n",
    "\n",
    "indexes1_pd = pd.DataFrame(indexes1)\n",
    "indexes2_pd = pd.DataFrame(indexes2)\n",
    "\n"
   ]
  },
  {
   "cell_type": "code",
   "execution_count": 123,
   "metadata": {},
   "outputs": [
    {
     "data": {
      "text/html": [
       "<div>\n",
       "<style scoped>\n",
       "    .dataframe tbody tr th:only-of-type {\n",
       "        vertical-align: middle;\n",
       "    }\n",
       "\n",
       "    .dataframe tbody tr th {\n",
       "        vertical-align: top;\n",
       "    }\n",
       "\n",
       "    .dataframe thead th {\n",
       "        text-align: right;\n",
       "    }\n",
       "</style>\n",
       "<table border=\"1\" class=\"dataframe\">\n",
       "  <thead>\n",
       "    <tr style=\"text-align: right;\">\n",
       "      <th></th>\n",
       "      <th>0</th>\n",
       "      <th>1</th>\n",
       "      <th>2</th>\n",
       "      <th>3</th>\n",
       "      <th>4</th>\n",
       "      <th>5</th>\n",
       "      <th>6</th>\n",
       "      <th>7</th>\n",
       "      <th>8</th>\n",
       "      <th>9</th>\n",
       "      <th>10</th>\n",
       "      <th>11</th>\n",
       "      <th>12</th>\n",
       "    </tr>\n",
       "  </thead>\n",
       "  <tbody>\n",
       "    <tr>\n",
       "      <th>0</th>\n",
       "      <td>Sep</td>\n",
       "      <td>Oct</td>\n",
       "      <td>Nov</td>\n",
       "      <td>Dec</td>\n",
       "      <td>Jan</td>\n",
       "      <td>Feb</td>\n",
       "      <td>Mar</td>\n",
       "      <td>Apr</td>\n",
       "      <td>May</td>\n",
       "      <td>Jun</td>\n",
       "      <td>Jul</td>\n",
       "      <td>Aug</td>\n",
       "      <td>Sep</td>\n",
       "    </tr>\n",
       "  </tbody>\n",
       "</table>\n",
       "</div>"
      ],
      "text/plain": [
       "     0    1    2     3    4    5    6    7    8    9    10   11    12\n",
       "0  Sep   Oct  Nov  Dec   Jan  Feb  Mar  Apr  May  Jun  Jul  Aug  Sep "
      ]
     },
     "execution_count": 123,
     "metadata": {},
     "output_type": "execute_result"
    }
   ],
   "source": [
    "indexes2_pd"
   ]
  }
 ],
 "metadata": {
  "kernelspec": {
   "display_name": ".venv",
   "language": "python",
   "name": "python3"
  },
  "language_info": {
   "codemirror_mode": {
    "name": "ipython",
    "version": 3
   },
   "file_extension": ".py",
   "mimetype": "text/x-python",
   "name": "python",
   "nbconvert_exporter": "python",
   "pygments_lexer": "ipython3",
   "version": "3.11.6"
  }
 },
 "nbformat": 4,
 "nbformat_minor": 2
}
